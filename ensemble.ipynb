{
 "cells": [
  {
   "cell_type": "code",
   "execution_count": 1,
   "id": "efe3bd57-d506-4aaa-8ae4-726fa093491c",
   "metadata": {
    "tags": []
   },
   "outputs": [],
   "source": [
    "import gzip\n",
    "from collections import defaultdict\n",
    "import random"
   ]
  },
  {
   "cell_type": "code",
   "execution_count": 2,
   "id": "8fda8c69-ca84-4666-9b03-dca62eb7fd26",
   "metadata": {
    "tags": []
   },
   "outputs": [],
   "source": [
    "false = False\n",
    "true = True"
   ]
  },
  {
   "cell_type": "code",
   "execution_count": 3,
   "id": "86354830-64a4-49e3-a67f-66e30c741448",
   "metadata": {
    "tags": []
   },
   "outputs": [],
   "source": [
    "def readJSON(path):\n",
    "    for l in gzip.open(path, 'rt'):\n",
    "        d = eval(l)\n",
    "        yield d"
   ]
  },
  {
   "cell_type": "code",
   "execution_count": 4,
   "id": "fe949d04-0d56-4729-aa8b-fb256f0a6980",
   "metadata": {
    "tags": []
   },
   "outputs": [],
   "source": [
    "data = []"
   ]
  },
  {
   "cell_type": "code",
   "execution_count": 5,
   "id": "c6a6d825-d1e1-4da2-b022-9b43ddb58bfb",
   "metadata": {
    "tags": []
   },
   "outputs": [],
   "source": [
    "for d in readJSON(\"Luxury_Beauty_5.json.gz\"):\n",
    "    data.append(d)"
   ]
  },
  {
   "cell_type": "code",
   "execution_count": 6,
   "id": "2c098c28-dc28-44a0-a835-e47e2cce2acf",
   "metadata": {
    "tags": []
   },
   "outputs": [],
   "source": [
    "uiPairs = []\n",
    "didBuy = []\n",
    "for d in data:\n",
    "    uiPairs.append([d['reviewerID'],d['asin']])\n",
    "    didBuy.append(1)"
   ]
  },
  {
   "cell_type": "code",
   "execution_count": 7,
   "id": "297a3d33-480e-4c47-85cd-494be393643a",
   "metadata": {},
   "outputs": [
    {
     "data": {
      "text/plain": [
       "34278"
      ]
     },
     "execution_count": 7,
     "metadata": {},
     "output_type": "execute_result"
    }
   ],
   "source": [
    "len(uiPairs)"
   ]
  },
  {
   "cell_type": "code",
   "execution_count": 8,
   "id": "871841a2-7a8f-4304-8cdd-438d15a3a57e",
   "metadata": {
    "tags": []
   },
   "outputs": [],
   "source": [
    "usersPerItem_Full = defaultdict(set)\n",
    "itemsPerUser_Full = defaultdict(set)\n",
    "\n",
    "for u,i in uiPairs:\n",
    "    usersPerItem_Full[i].add(u)\n",
    "    itemsPerUser_Full[u].add(i)"
   ]
  },
  {
   "cell_type": "code",
   "execution_count": 9,
   "id": "92897013-cc58-49b9-8fe1-c7fc6af3ea03",
   "metadata": {
    "tags": []
   },
   "outputs": [],
   "source": [
    "negUiPairs = []\n",
    "negDidBuy = []\n",
    "items = list(usersPerItem_Full.keys())\n",
    "\n",
    "for u,i in uiPairs:\n",
    "    negItem = random.choice(items)\n",
    "    while negItem in itemsPerUser_Full[u]:\n",
    "        negItem = random.choice(items)\n",
    "    negUiPairs.append([u,negItem])\n",
    "    negDidBuy.append(0)\n",
    "\n",
    "uiPairs.extend(negUiPairs)\n",
    "didBuy.extend(negDidBuy)"
   ]
  },
  {
   "cell_type": "code",
   "execution_count": 10,
   "id": "38b7f2ed-e6a4-41e8-9b92-43f3702e3210",
   "metadata": {
    "tags": []
   },
   "outputs": [],
   "source": [
    "suffledIndices = list(range(len(uiPairs)))\n",
    "random.shuffle(suffledIndices)\n",
    "uiPairsSuffled = []\n",
    "didBuySuffled = []\n",
    "\n",
    "for si in suffledIndices:\n",
    "    uiPairsSuffled.append(uiPairs[si])\n",
    "    didBuySuffled.append(didBuy[si])"
   ]
  },
  {
   "cell_type": "code",
   "execution_count": 11,
   "id": "7544c66b-13fc-4c84-a290-8f2fc186dedf",
   "metadata": {},
   "outputs": [],
   "source": [
    "#Training/Validation/Test"
   ]
  },
  {
   "cell_type": "code",
   "execution_count": 12,
   "id": "c9b518c4-54c5-45e8-a3a0-dbb5c417b6f5",
   "metadata": {
    "tags": []
   },
   "outputs": [],
   "source": [
    "thresholdTraining = 8*len(uiPairsSuffled)//10\n",
    "thresholdValidation = 9*len(uiPairsSuffled)//10\n",
    "\n",
    "uiPairs_training = uiPairsSuffled[:thresholdTraining]\n",
    "didBuy_training = didBuySuffled[:thresholdTraining]\n",
    "\n",
    "uiPairs_validation = uiPairsSuffled[thresholdTraining:thresholdValidation]\n",
    "didBuy_validation = didBuySuffled[thresholdTraining:thresholdValidation]\n",
    "\n",
    "uiPairs_test = uiPairsSuffled[thresholdValidation:]\n",
    "didBuy_test = didBuySuffled[thresholdValidation:]"
   ]
  },
  {
   "cell_type": "code",
   "execution_count": 13,
   "id": "b79e3aa6-515d-4615-ae3d-48ca675b2261",
   "metadata": {
    "tags": []
   },
   "outputs": [],
   "source": [
    "#usersPerItem, itemsPerUser, didBuyPerUserItem"
   ]
  },
  {
   "cell_type": "code",
   "execution_count": 14,
   "id": "6bcd6d0c-9890-42d1-beb9-3e87530397db",
   "metadata": {},
   "outputs": [],
   "source": [
    "usersPerItem = defaultdict(set)\n",
    "itemsPerUser = defaultdict(set)\n",
    "didBuyPerUserItem = defaultdict(bool)\n",
    "\n",
    "for index, (u,i) in enumerate(uiPairs_training):\n",
    "    usersPerItem[i].add(u)\n",
    "    itemsPerUser[u].add(i)\n",
    "    didBuyPerUserItem[(u,i)] = didBuy_training[index]"
   ]
  },
  {
   "cell_type": "code",
   "execution_count": 15,
   "id": "028fdeb6-0c64-45f3-9986-f6bf3c394510",
   "metadata": {
    "tags": []
   },
   "outputs": [],
   "source": [
    "#Jaccard Sim"
   ]
  },
  {
   "cell_type": "code",
   "execution_count": 16,
   "id": "3556890c-425c-4af1-a79c-29126f6c7e0c",
   "metadata": {
    "tags": []
   },
   "outputs": [],
   "source": [
    "def jaccardSimilarity(s1, s2):\n",
    "    return len(s1.intersection(s2))/len(s1.union(s2))"
   ]
  },
  {
   "cell_type": "code",
   "execution_count": 17,
   "id": "6369ae53-bf67-4ccd-8235-03014108c5f3",
   "metadata": {
    "tags": []
   },
   "outputs": [],
   "source": [
    "def JSimFeature(u,i):\n",
    "    sims = []\n",
    "    for i2 in itemsPerUser[u]:\n",
    "        if i2 != i:\n",
    "            sims.append(jaccardSimilarity(usersPerItem[i], usersPerItem[i2]))\n",
    "    return max(sims)"
   ]
  },
  {
   "cell_type": "code",
   "execution_count": 18,
   "id": "4b052951-0cc3-4ded-b0b9-dabe750eee3b",
   "metadata": {
    "tags": []
   },
   "outputs": [],
   "source": [
    "def JSimFeatures(uiPairs):\n",
    "    features = []\n",
    "    for u,i in uiPairs:\n",
    "        features.append([1, JSimFeature(u,i)])\n",
    "    return features"
   ]
  },
  {
   "cell_type": "code",
   "execution_count": 19,
   "id": "37f5f2a2-5691-4a9d-a560-3a3d5fe2e0c1",
   "metadata": {
    "tags": []
   },
   "outputs": [],
   "source": [
    "JSFeats = JSimFeatures(uiPairs_training)"
   ]
  },
  {
   "cell_type": "code",
   "execution_count": 20,
   "id": "4dd9a6d0-2a0f-4b4d-a889-55c0f87844d0",
   "metadata": {
    "tags": []
   },
   "outputs": [],
   "source": [
    "from sklearn.linear_model import LogisticRegression\n",
    "from sklearn.metrics import accuracy_score\n",
    "model = LogisticRegression().fit(JSFeats, didBuy_training)"
   ]
  },
  {
   "cell_type": "code",
   "execution_count": 21,
   "id": "4e96c108-f7ba-49d5-a483-26d2c0e49bed",
   "metadata": {
    "tags": []
   },
   "outputs": [
    {
     "data": {
      "text/plain": [
       "0.6809496025089344"
      ]
     },
     "execution_count": 21,
     "metadata": {},
     "output_type": "execute_result"
    }
   ],
   "source": [
    "pred = model.predict(JSFeats)\n",
    "accuracy_score(pred,didBuy_training)"
   ]
  },
  {
   "cell_type": "code",
   "execution_count": 22,
   "id": "b953157c-1fd0-479b-baf0-6895264bc973",
   "metadata": {
    "tags": []
   },
   "outputs": [
    {
     "data": {
      "text/plain": [
       "0.6846557759626605"
      ]
     },
     "execution_count": 22,
     "metadata": {},
     "output_type": "execute_result"
    }
   ],
   "source": [
    "JSFeatsV = JSimFeatures(uiPairs_validation)\n",
    "predV = model.predict(JSFeatsV)\n",
    "accuracy_score(predV, didBuy_validation)"
   ]
  },
  {
   "cell_type": "code",
   "execution_count": 23,
   "id": "8c2e4e6d-1bdc-4c6c-b90d-91552c55a160",
   "metadata": {
    "tags": []
   },
   "outputs": [
    {
     "data": {
      "text/plain": [
       "0.6826137689614936"
      ]
     },
     "execution_count": 23,
     "metadata": {},
     "output_type": "execute_result"
    }
   ],
   "source": [
    "JSFeatsT = JSimFeatures(uiPairs_test)\n",
    "predT = model.predict(JSFeatsT)\n",
    "accuracy_score(predT, didBuy_test)"
   ]
  },
  {
   "cell_type": "code",
   "execution_count": null,
   "id": "329dddd0-8456-4571-81e8-f139ff4377d5",
   "metadata": {
    "tags": []
   },
   "outputs": [],
   "source": []
  },
  {
   "cell_type": "code",
   "execution_count": null,
   "id": "6bad0c24-9170-422a-9737-2c0d096a55eb",
   "metadata": {
    "tags": []
   },
   "outputs": [],
   "source": []
  },
  {
   "cell_type": "code",
   "execution_count": 24,
   "id": "691deb99-475e-4eb6-908e-4ec5acc31056",
   "metadata": {
    "tags": []
   },
   "outputs": [],
   "source": [
    "# import matplotlib.pyplot as plt\n",
    "# plt.hist(fsFeatsNormalized)\n",
    "# plt.ylabel('freq')\n",
    "# plt.xlabel('Max Similarity Standardized')\n",
    "# plt.show()"
   ]
  },
  {
   "cell_type": "code",
   "execution_count": 25,
   "id": "b78eb3d4-2b75-48a0-8a90-6c66a60fb85b",
   "metadata": {},
   "outputs": [],
   "source": [
    "#Popularity "
   ]
  },
  {
   "cell_type": "code",
   "execution_count": 26,
   "id": "39b11fc5-c330-4df8-9e44-e10965cec68d",
   "metadata": {
    "tags": []
   },
   "outputs": [],
   "source": [
    "countsByItem = defaultdict(int)\n",
    "for u,i in uiPairs_training:\n",
    "     countsByItem[i] +=1\n",
    "\n",
    "popularity = sorted(list(countsByItem.keys()), key=lambda k:countsByItem[k])\n",
    "\n",
    "# popularityByItem = defaultdict(int)\n",
    "\n",
    "# for i,item in enumerate(popularity):\n",
    "#     popularityByItem[item] = i/(len(popularity)-1)\n"
   ]
  },
  {
   "cell_type": "code",
   "execution_count": 27,
   "id": "0f1cc88d-31fc-4434-ba36-acbaa045736d",
   "metadata": {},
   "outputs": [],
   "source": [
    "total = 0\n",
    "for item in countsByItem:\n",
    "    total += countsByItem[item]\n",
    "\n",
    "topTotal = 0 \n",
    "topItems = set()\n",
    "reversePop = sorted(list(countsByItem.keys()), key=lambda k:countsByItem[k], reverse=True)\n",
    "for item in reversePop:\n",
    "    if topTotal >= total/2:\n",
    "        break\n",
    "    topItems.add(item)\n",
    "    topTotal+=countsByItem[item]\n",
    "    "
   ]
  },
  {
   "cell_type": "code",
   "execution_count": 28,
   "id": "0abcaa8a-3bd6-4108-9d3f-1be04a98a5fc",
   "metadata": {},
   "outputs": [
    {
     "data": {
      "text/plain": [
       "0.6724527751440449"
      ]
     },
     "execution_count": 28,
     "metadata": {},
     "output_type": "execute_result"
    }
   ],
   "source": [
    "predBaseline = []\n",
    "for u,i in uiPairs_training:\n",
    "    if i in topItems:\n",
    "        predBaseline.append(1)\n",
    "    else:\n",
    "        predBaseline.append(0)\n",
    "        \n",
    "accuracy_score(predBaseline,didBuy_training)"
   ]
  },
  {
   "cell_type": "code",
   "execution_count": 29,
   "id": "015b5b83-8bd0-4f4a-97b1-57526ce8115d",
   "metadata": {},
   "outputs": [
    {
     "data": {
      "text/plain": [
       "0.6737164527421237"
      ]
     },
     "execution_count": 29,
     "metadata": {},
     "output_type": "execute_result"
    }
   ],
   "source": [
    "predBaselineTest = []\n",
    "for u,i in uiPairs_test:\n",
    "    if i in topItems:\n",
    "        predBaselineTest.append(1)\n",
    "    else:\n",
    "        predBaselineTest.append(0)\n",
    "        \n",
    "accuracy_score(predBaselineTest,didBuy_test)"
   ]
  },
  {
   "cell_type": "code",
   "execution_count": 30,
   "id": "bef74061-887d-4040-9177-8fdaa25fd772",
   "metadata": {},
   "outputs": [
    {
     "data": {
      "text/plain": [
       "0.4985414235705951"
      ]
     },
     "execution_count": 30,
     "metadata": {},
     "output_type": "execute_result"
    }
   ],
   "source": [
    "Baseline2 = []\n",
    "for u,i in uiPairs_test:\n",
    "    Baseline2.append(0)\n",
    "        \n",
    "accuracy_score(Baseline2,didBuy_test)"
   ]
  },
  {
   "cell_type": "code",
   "execution_count": null,
   "id": "5d3f6a5b-1457-4ee0-abf0-43f23e2a5c42",
   "metadata": {},
   "outputs": [],
   "source": []
  },
  {
   "cell_type": "code",
   "execution_count": 31,
   "id": "d31eac5c-b38a-49d4-883f-9c7ca22243c5",
   "metadata": {},
   "outputs": [],
   "source": [
    "def popularityFeatures(uiPairs):\n",
    "    features = []\n",
    "    maxCount = max(countsByItem.values())\n",
    "    for u,i in uiPairs:\n",
    "        features.append([1, countsByItem[i]/maxCount])\n",
    "    return features"
   ]
  },
  {
   "cell_type": "code",
   "execution_count": null,
   "id": "d0b239b7-12c0-448a-a696-c0b61b162766",
   "metadata": {},
   "outputs": [],
   "source": []
  },
  {
   "cell_type": "code",
   "execution_count": 32,
   "id": "7e95cf84-146e-4b66-a739-e1010241309c",
   "metadata": {},
   "outputs": [
    {
     "data": {
      "text/plain": [
       "0.6653781635183429"
      ]
     },
     "execution_count": 32,
     "metadata": {},
     "output_type": "execute_result"
    }
   ],
   "source": [
    "popFeats = popularityFeatures(uiPairs_training)\n",
    "modelP = LogisticRegression().fit(popFeats, didBuy_training)\n",
    "predP = modelP.predict(popFeats)\n",
    "accuracy_score(predP,didBuy_training)"
   ]
  },
  {
   "cell_type": "code",
   "execution_count": 33,
   "id": "1081e5f1-57db-440f-aa3b-2c3ad28c1994",
   "metadata": {},
   "outputs": [
    {
     "data": {
      "text/plain": [
       "0.6689031505250875"
      ]
     },
     "execution_count": 33,
     "metadata": {},
     "output_type": "execute_result"
    }
   ],
   "source": [
    "popFeatsV = popularityFeatures(uiPairs_validation)\n",
    "predPV = modelP.predict(popFeatsV)\n",
    "accuracy_score(predPV, didBuy_validation)"
   ]
  },
  {
   "cell_type": "code",
   "execution_count": 34,
   "id": "8748bcb6-9a28-4ddb-ae37-bb35d68faf49",
   "metadata": {},
   "outputs": [
    {
     "data": {
      "text/plain": [
       "0.6672987164527421"
      ]
     },
     "execution_count": 34,
     "metadata": {},
     "output_type": "execute_result"
    }
   ],
   "source": [
    "popFeatsT = popularityFeatures(uiPairs_test)\n",
    "predPT = modelP.predict(popFeatsT)\n",
    "accuracy_score(predPT, didBuy_test)"
   ]
  },
  {
   "cell_type": "code",
   "execution_count": null,
   "id": "0fd180a8-b0db-4ca0-8ca8-d29fdb58c7ba",
   "metadata": {},
   "outputs": [],
   "source": []
  },
  {
   "cell_type": "code",
   "execution_count": null,
   "id": "ade46ee5-cf51-4b1a-9b0e-048c861b48fb",
   "metadata": {},
   "outputs": [],
   "source": []
  },
  {
   "cell_type": "code",
   "execution_count": 35,
   "id": "63ce94d0-6bf4-498f-a968-b285d851901a",
   "metadata": {},
   "outputs": [],
   "source": [
    "# Cosine"
   ]
  },
  {
   "cell_type": "code",
   "execution_count": 36,
   "id": "360a8c83-fef2-435a-8ee7-a2161a99b027",
   "metadata": {},
   "outputs": [],
   "source": [
    "import math\n",
    "def Cosine(i1, i2):\n",
    "    # Between two items\n",
    "    inter = usersPerItem[i1].intersection(usersPerItem[i2]) \n",
    "    numer = sum([didBuyPerUserItem[(u,i1)]*didBuyPerUserItem[(u,i2)] for u in inter])\n",
    "    norm1 = sum([didBuyPerUserItem[(u,i1)]**2 for u in usersPerItem[i1]])\n",
    "    norm2 = sum([didBuyPerUserItem[(u,i2)]**2 for u in usersPerItem[i2]])\n",
    "    denom = math.sqrt(norm1) * math.sqrt(norm2)\n",
    "    if denom == 0: return 0 # If one of the two items has noratings\n",
    "    return numer / denom"
   ]
  },
  {
   "cell_type": "code",
   "execution_count": 37,
   "id": "0f612d31-81c6-4259-9692-f1fabdb10f92",
   "metadata": {},
   "outputs": [],
   "source": [
    "def cosineFeature(u,i):\n",
    "    sims = []\n",
    "    for i2 in itemsPerUser[u]:\n",
    "        if i2 != i:\n",
    "            sims.append(Cosine(i, i2))\n",
    "    return max(sims)"
   ]
  },
  {
   "cell_type": "code",
   "execution_count": 38,
   "id": "adaa2c72-16c2-4065-bd30-f9615c743604",
   "metadata": {},
   "outputs": [],
   "source": [
    "def cosineFeatures(uiPairs):\n",
    "    features = []\n",
    "    for u,i in uiPairs:\n",
    "        features.append([1, cosineFeature(u,i)])\n",
    "    return features"
   ]
  },
  {
   "cell_type": "code",
   "execution_count": 39,
   "id": "1a41a85c-3adc-4734-a7fe-38a5bfdbfddc",
   "metadata": {},
   "outputs": [
    {
     "data": {
      "text/plain": [
       "0.836955728976734"
      ]
     },
     "execution_count": 39,
     "metadata": {},
     "output_type": "execute_result"
    }
   ],
   "source": [
    "cosineFeats = cosineFeatures(uiPairs_training)\n",
    "modelC = LogisticRegression().fit(cosineFeats, didBuy_training)\n",
    "predC = modelC.predict(cosineFeats)\n",
    "accuracy_score(predC,didBuy_training)"
   ]
  },
  {
   "cell_type": "code",
   "execution_count": 40,
   "id": "3d94f0a2-b88e-4300-ba21-f56ee2b8e1df",
   "metadata": {},
   "outputs": [
    {
     "data": {
      "text/plain": [
       "0.7332263710618436"
      ]
     },
     "execution_count": 40,
     "metadata": {},
     "output_type": "execute_result"
    }
   ],
   "source": [
    "cosineFeatsV = cosineFeatures(uiPairs_validation)\n",
    "predCV = modelC.predict(cosineFeatsV)\n",
    "accuracy_score(predCV, didBuy_validation)"
   ]
  },
  {
   "cell_type": "code",
   "execution_count": 41,
   "id": "b8b0f20e-9ea2-48e0-a2be-33bea5d5c7fe",
   "metadata": {},
   "outputs": [
    {
     "data": {
      "text/plain": [
       "0.7265169194865811"
      ]
     },
     "execution_count": 41,
     "metadata": {},
     "output_type": "execute_result"
    }
   ],
   "source": [
    "cosineFeatsT = cosineFeatures(uiPairs_test)\n",
    "predCT = modelC.predict(cosineFeatsT)\n",
    "accuracy_score(predCT, didBuy_test)"
   ]
  },
  {
   "cell_type": "code",
   "execution_count": null,
   "id": "d7b687f3-68c3-475b-a5d0-47f143eea135",
   "metadata": {},
   "outputs": [],
   "source": []
  },
  {
   "cell_type": "code",
   "execution_count": null,
   "id": "ae7fffd4-4194-4484-87a6-21b7111ef860",
   "metadata": {},
   "outputs": [],
   "source": []
  },
  {
   "cell_type": "code",
   "execution_count": 42,
   "id": "c7111392-641a-4fbf-a3e4-8e3e01157587",
   "metadata": {},
   "outputs": [],
   "source": [
    "#Pearson"
   ]
  },
  {
   "cell_type": "code",
   "execution_count": 48,
   "id": "0b4bed09-357f-4c51-b3a6-d6c8198be421",
   "metadata": {},
   "outputs": [],
   "source": [
    "itemAverages = defaultdict(int)\n",
    "numUsers = len(list(itemsPerUser.keys()))\n",
    "for item in usersPerItem:\n",
    "    itemAverages[item] = len(usersPerItem[item])/numUsers"
   ]
  },
  {
   "cell_type": "code",
   "execution_count": 49,
   "id": "ff026b45-ce3d-4818-b3f6-e46c258eec79",
   "metadata": {},
   "outputs": [],
   "source": [
    "def Pearson(i1, i2):\n",
    "    # Between two items\n",
    "    iBar1,iBar2 = itemAverages[i1], itemAverages[i2]\n",
    "    inter = usersPerItem[i1].intersection(usersPerItem[i2]) \n",
    "    numer = 0\n",
    "    denom1 = 0\n",
    "    denom2 = 0\n",
    "    for u in inter:\n",
    "        numer += (didBuyPerUserItem[(u,i1)] - iBar1)*(didBuyPerUserItem[(u ,i2)] - iBar2)\n",
    "    for u in inter: # Alternately could sum over usersPerItem[i1]/[i2]\n",
    "        denom1 += (didBuyPerUserItem[(u,i1)] - iBar1)**2 \n",
    "        denom2 += (didBuyPerUserItem[(u,i2)] - iBar2)**2\n",
    "    denom = math.sqrt(denom1) * math.sqrt(denom2) \n",
    "    if denom == 0: return 0\n",
    "    return numer / denom"
   ]
  },
  {
   "cell_type": "code",
   "execution_count": 50,
   "id": "100a3218-2239-4d40-ab01-a3b8b0eb4dc3",
   "metadata": {},
   "outputs": [],
   "source": [
    "def pearsonFeature(u,i):\n",
    "    sims = []\n",
    "    for i2 in itemsPerUser[u]:\n",
    "        if i2 != i:\n",
    "            sims.append(Pearson(i, i2))\n",
    "    return max(sims)"
   ]
  },
  {
   "cell_type": "code",
   "execution_count": 51,
   "id": "eec876bf-4512-4ea7-a74f-c46b507dd6db",
   "metadata": {},
   "outputs": [],
   "source": [
    "def pearsonFeatures(uiPairs):\n",
    "    features = []\n",
    "    for u,i in uiPairs:\n",
    "        features.append([1, pearsonFeature(u,i)])\n",
    "    return features"
   ]
  },
  {
   "cell_type": "code",
   "execution_count": 52,
   "id": "ff028aca-2046-4a53-964a-7f186cc96639",
   "metadata": {},
   "outputs": [
    {
     "data": {
      "text/plain": [
       "0.5114324265188535"
      ]
     },
     "execution_count": 52,
     "metadata": {},
     "output_type": "execute_result"
    }
   ],
   "source": [
    "pearsonFeats = pearsonFeatures(uiPairs_training)\n",
    "modelPe = LogisticRegression().fit(pearsonFeats, didBuy_training)\n",
    "predPe = modelPe.predict(pearsonFeats)\n",
    "accuracy_score(predPe,didBuy_training)"
   ]
  },
  {
   "cell_type": "code",
   "execution_count": 53,
   "id": "ed967c4f-865b-4a39-81c0-adcd956e81d5",
   "metadata": {},
   "outputs": [
    {
     "data": {
      "text/plain": [
       "0.4412193698949825"
      ]
     },
     "execution_count": 53,
     "metadata": {},
     "output_type": "execute_result"
    }
   ],
   "source": [
    "pearsonFeatsV = pearsonFeatures(uiPairs_validation)\n",
    "predPeV = modelPe.predict(pearsonFeatsV)\n",
    "accuracy_score(predPeV, didBuy_validation)"
   ]
  },
  {
   "cell_type": "code",
   "execution_count": 54,
   "id": "d4cca22a-4b5a-4e92-b2fc-fe0881917f28",
   "metadata": {},
   "outputs": [
    {
     "data": {
      "text/plain": [
       "0.4364060676779463"
      ]
     },
     "execution_count": 54,
     "metadata": {},
     "output_type": "execute_result"
    }
   ],
   "source": [
    "pearsonFeatsT = pearsonFeatures(uiPairs_test)\n",
    "predPeT = modelPe.predict(pearsonFeatsT)\n",
    "accuracy_score(predPeT, didBuy_test)"
   ]
  },
  {
   "cell_type": "code",
   "execution_count": null,
   "id": "b122dd46-dd6e-42e8-965d-2dfda4d8f565",
   "metadata": {},
   "outputs": [],
   "source": []
  },
  {
   "cell_type": "code",
   "execution_count": null,
   "id": "14dbb89f-3b4f-4127-ad77-3516f04c8639",
   "metadata": {},
   "outputs": [],
   "source": []
  },
  {
   "cell_type": "code",
   "execution_count": null,
   "id": "d85ab25d-0966-4aa4-bf8e-cfe7bc5269f8",
   "metadata": {},
   "outputs": [],
   "source": []
  },
  {
   "cell_type": "code",
   "execution_count": 55,
   "id": "be83d216-47c9-4f48-9159-70c6dbbda640",
   "metadata": {},
   "outputs": [],
   "source": [
    "def stichOutputs(predictionArray):\n",
    "    output = []\n",
    "    for i in range(len(predictionArray[0])):\n",
    "        features = [1]\n",
    "        for j in range(len(predictionArray)):\n",
    "            features.append(predictionArray[j][i])\n",
    "        output.append(features)\n",
    "    return output"
   ]
  },
  {
   "cell_type": "code",
   "execution_count": 56,
   "id": "d2d89c6f-87da-4544-be4d-a540b515b881",
   "metadata": {},
   "outputs": [],
   "source": [
    "featureMatrixT = stichOutputs([pred,predP,predC])"
   ]
  },
  {
   "cell_type": "code",
   "execution_count": 57,
   "id": "978b1df5-d965-494d-bbd0-164450ba0177",
   "metadata": {},
   "outputs": [
    {
     "data": {
      "text/plain": [
       "0.8418423163883013"
      ]
     },
     "execution_count": 57,
     "metadata": {},
     "output_type": "execute_result"
    }
   ],
   "source": [
    "modelEnsembleT = LogisticRegression().fit(featureMatrixT, didBuy_training)\n",
    "predET = modelEnsembleT.predict(featureMatrixT)\n",
    "accuracy_score(predET,didBuy_training)"
   ]
  },
  {
   "cell_type": "code",
   "execution_count": 58,
   "id": "062933db-a62a-4009-a238-239ea1c1ddc2",
   "metadata": {},
   "outputs": [
    {
     "data": {
      "text/plain": [
       "0.7418319719953326"
      ]
     },
     "execution_count": 58,
     "metadata": {},
     "output_type": "execute_result"
    }
   ],
   "source": [
    "featureMatrixTV = stichOutputs([predV,predPV,predCV])\n",
    "predETV = modelEnsembleT.predict(featureMatrixTV)\n",
    "accuracy_score(predETV,didBuy_validation)"
   ]
  },
  {
   "cell_type": "code",
   "execution_count": 59,
   "id": "7da87668-632e-4bec-a721-273f34133bb3",
   "metadata": {},
   "outputs": [
    {
     "data": {
      "text/plain": [
       "0.7359976662777129"
      ]
     },
     "execution_count": 59,
     "metadata": {},
     "output_type": "execute_result"
    }
   ],
   "source": [
    "featureMatrixTT = stichOutputs([predT,predPT,predCT])\n",
    "predETT = modelEnsembleT.predict(featureMatrixTT)\n",
    "accuracy_score(predETT,didBuy_test)"
   ]
  },
  {
   "cell_type": "code",
   "execution_count": 71,
   "id": "89fcefdc-c95a-4a41-a52c-6b46341fd86d",
   "metadata": {},
   "outputs": [],
   "source": []
  },
  {
   "cell_type": "code",
   "execution_count": null,
   "id": "980ef793-658a-4922-b9c2-f14ec69d7147",
   "metadata": {},
   "outputs": [],
   "source": []
  },
  {
   "cell_type": "code",
   "execution_count": null,
   "id": "418b780c-915e-4830-b330-9bba9c0346d9",
   "metadata": {},
   "outputs": [],
   "source": []
  },
  {
   "cell_type": "code",
   "execution_count": 60,
   "id": "3e8154d1-5e8b-430c-a65b-a7055d9520cb",
   "metadata": {},
   "outputs": [
    {
     "data": {
      "image/png": "[encoded data removed]",
      "text/plain": [
       "<Figure size 432x288 with 1 Axes>"
      ]
     },
     "metadata": {
      "needs_background": "light"
     },
     "output_type": "display_data"
    }
   ],
   "source": [
    "import matplotlib.pyplot as plt\n",
    "\n",
    "TestAccuracies = [0.5070011668611435,0.6782380396732789,0.6843640606767795, 0.661026837806301,0.7297257876312718, 0.4369894982497083, 0.7342473745624271]\n",
    "Labels = [\"Baseline\",\"Baseline\", \"Jaccard\", \"Popularity\",\"Cosine\",\"Pearson\",\"Ensemble\"]\n",
    "LabelPositions = [0.5070011668611435,0.6732380396732789,0.6843640606767795, 0.661026837806301,0.7197257876312718, 0.4369894982497083, 0.7342473745624271]\n",
    "\n",
    "plt.scatter(TestAccuracies,TestAccuracies)\n",
    "\n",
    "for i,text in enumerate(Labels):\n",
    "    plt.annotate(text, (LabelPositions[i],LabelPositions[i]))\n",
    "\n",
    "plt.ylabel('Test Accuracy')\n",
    "plt.xlabel('Test Accuracy')\n",
    "plt.show()"
   ]
  },
  {
   "cell_type": "code",
   "execution_count": null,
   "id": "ad37362e-8888-4045-bfe3-877d790f7f40",
   "metadata": {},
   "outputs": [],
   "source": []
  },
  {
   "cell_type": "code",
   "execution_count": 62,
   "id": "c3c5e5c7-c887-466c-bc7a-2ca8d133fbc8",
   "metadata": {},
   "outputs": [
    {
     "data": {
      "text/plain": [
       "0.5006746407993582"
      ]
     },
     "execution_count": 62,
     "metadata": {},
     "output_type": "execute_result"
    }
   ],
   "source": [
    "sum(didBuy_training)/len(didBuy_training)"
   ]
  },
  {
   "cell_type": "code",
   "execution_count": 63,
   "id": "7c212647-da98-4a43-be8c-a88a43a0a61f",
   "metadata": {},
   "outputs": [
    {
     "name": "stdout",
     "output_type": "stream",
     "text": [
      "90 A2V5R832QCSOMX 1 A2P6QV3P7ENWPR 7.351139041633935\n"
     ]
    }
   ],
   "source": [
    "maxItems = -1\n",
    "maxUserID = \"\"\n",
    "minItems = 100000000000000\n",
    "minitemID = \"\"\n",
    "totalItems = 0 \n",
    "for user in itemsPerUser_Full:\n",
    "    numItems = len(itemsPerUser_Full[user])\n",
    "    totalItems += numItems\n",
    "    if numItems >maxItems:\n",
    "        maxItems = numItems\n",
    "        maxUserID = user\n",
    "    if numItems < minItems:\n",
    "        minItems = numItems\n",
    "        minitemID = user\n",
    "        \n",
    "print(maxItems,maxUserID,minItems,minitemID,totalItems/len(itemsPerUser_Full))"
   ]
  },
  {
   "cell_type": "code",
   "execution_count": 64,
   "id": "d0f343fc-d42e-4053-8c2f-5a005aa08730",
   "metadata": {},
   "outputs": [
    {
     "name": "stdout",
     "output_type": "stream",
     "text": [
      "440 B0006PLMFQ 1 B0002Y5JEG 17.757115749525617\n"
     ]
    }
   ],
   "source": [
    "maxUsers = -1\n",
    "maxItemID = \"\"\n",
    "minUsers = 100000000000000\n",
    "minUserID = \"\"\n",
    "totalUsers = 0 \n",
    "for item in usersPerItem_Full:\n",
    "    numUsers = len(usersPerItem_Full[item])\n",
    "    totalUsers += numUsers\n",
    "    if numUsers >maxUsers:\n",
    "        maxUsers = numUsers\n",
    "        maxItemID = item\n",
    "    if numUsers < minUsers:\n",
    "        minUsers = numUsers\n",
    "        minUserID = item\n",
    "        \n",
    "print(maxUsers,maxItemID,minUsers,minUserID,totalUsers/len(usersPerItem_Full))"
   ]
  },
  {
   "cell_type": "code",
   "execution_count": 65,
   "id": "25204ca4-184f-43cb-8593-533b68ccf4fd",
   "metadata": {},
   "outputs": [
    {
     "name": "stdout",
     "output_type": "stream",
     "text": [
      "156 A2V5R832QCSOMX 3 A221I9R7I92ORO 13.186959937156324\n"
     ]
    }
   ],
   "source": [
    "maxItems = -1\n",
    "maxUserID = \"\"\n",
    "minItems = 100000000000000\n",
    "minitemID = \"\"\n",
    "totalItems = 0 \n",
    "for user in itemsPerUser:\n",
    "    numItems = len(itemsPerUser[user])\n",
    "    totalItems += numItems\n",
    "    if numItems >maxItems:\n",
    "        maxItems = numItems\n",
    "        maxUserID = user\n",
    "    if numItems < minItems:\n",
    "        minItems = numItems\n",
    "        minitemID = user\n",
    "        \n",
    "print(maxItems,maxUserID,minItems,minitemID,totalItems/len(itemsPerUser_Full))"
   ]
  },
  {
   "cell_type": "code",
   "execution_count": 66,
   "id": "c0ee8ede-2778-4ca3-8c21-94c4b7fa7a90",
   "metadata": {},
   "outputs": [
    {
     "name": "stdout",
     "output_type": "stream",
     "text": [
      "381 B000J4FGAG 10 B00172IEVM 31.853889943074005\n"
     ]
    }
   ],
   "source": [
    "maxUsers = -1\n",
    "maxItemID = \"\"\n",
    "minUsers = 100000000000000\n",
    "minUserID = \"\"\n",
    "totalUsers = 0 \n",
    "for item in usersPerItem:\n",
    "    numUsers = len(usersPerItem[item])\n",
    "    totalUsers += numUsers\n",
    "    if numUsers >maxUsers:\n",
    "        maxUsers = numUsers\n",
    "        maxItemID = item\n",
    "    if numUsers < minUsers:\n",
    "        minUsers = numUsers\n",
    "        minUserID = item\n",
    "        \n",
    "print(maxUsers,maxItemID,minUsers,minUserID,totalUsers/len(usersPerItem_Full))"
   ]
  },
  {
   "cell_type": "code",
   "execution_count": 70,
   "id": "eff14706-8d1a-4726-85a9-5884b54d48f1",
   "metadata": {},
   "outputs": [
    {
     "data": {
      "text/plain": [
       "array([[ 7.05309591e-05, -1.83647304e-03,  2.18849751e+00,\n",
       "         3.10299367e+00]])"
      ]
     },
     "execution_count": 70,
     "metadata": {},
     "output_type": "execute_result"
    }
   ],
   "source": [
    "modelEnsembleT.coef_"
   ]
  },
  {
   "cell_type": "code",
   "execution_count": null,
   "id": "1678917d-1cec-458a-87e3-9cb924b04594",
   "metadata": {},
   "outputs": [],
   "source": []
  },
  {
   "cell_type": "code",
   "execution_count": null,
   "id": "cd745ff6-076d-422f-b23b-6cdc1f9e76fd",
   "metadata": {},
   "outputs": [],
   "source": []
  }
 ],
 "metadata": {
  "kernelspec": {
   "display_name": "Python 3",
   "language": "python",
   "name": "python3"
  },
  "language_info": {
   "codemirror_mode": {
    "name": "ipython",
    "version": 3
   },
   "file_extension": ".py",
   "mimetype": "text/x-python",
   "name": "python",
   "nbconvert_exporter": "python",
   "pygments_lexer": "ipython3",
   "version": "3.8.8"
  }
 },
 "nbformat": 4,
 "nbformat_minor": 5
}
